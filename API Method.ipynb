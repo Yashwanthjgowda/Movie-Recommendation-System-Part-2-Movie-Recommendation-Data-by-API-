{
 "cells": [
  {
   "cell_type": "code",
   "execution_count": 11,
   "id": "7e8ea46f-4ba2-4171-bf81-8e9eedf50239",
   "metadata": {},
   "outputs": [
    {
     "name": "stdout",
     "output_type": "stream",
     "text": [
      "      id  rank                     title  year              director  \\\n",
      "0      1     1  The Shawshank Redemption  1994        Frank Darabont   \n",
      "1      2     2             The Godfather  1972  Francis Ford Coppola   \n",
      "2      3     3           The Dark Knight  2008     Christopher Nolan   \n",
      "3      4     4     The Godfather Part II  1974  Francis Ford Coppola   \n",
      "4      5     5              12 Angry Men  1957          Sidney Lumet   \n",
      "..   ...   ...                       ...   ...                   ...   \n",
      "245  246   246            The Iron Giant  1999             Brad Bird   \n",
      "246  247   247                  The Help  2011           Tate Taylor   \n",
      "247  248   248                   Aladdin  1992          Ron Clements   \n",
      "248  249   249        Dances with Wolves  1990         Kevin Costner   \n",
      "249  250   250               Dersu Uzala  1975        Akira Kurosawa   \n",
      "\n",
      "                                  cast  rating  \n",
      "0          Tim Robbins, Morgan Freeman     9.2  \n",
      "1             Marlon Brando, Al Pacino     9.2  \n",
      "2         Christian Bale, Heath Ledger     9.0  \n",
      "3            Al Pacino, Robert De Niro     9.0  \n",
      "4             Henry Fonda, Lee J. Cobb     9.0  \n",
      "..                                 ...     ...  \n",
      "245  Eli Marienthal, Harry Connick Jr.     8.0  \n",
      "246            Viola Davis, Emma Stone     8.0  \n",
      "247      Scott Weinger, Robin Williams     8.0  \n",
      "248      Kevin Costner, Mary McDonnell     8.0  \n",
      "249       Maksim Munzuk, Yuriy Solomin     8.0  \n",
      "\n",
      "[250 rows x 7 columns]\n"
     ]
    }
   ],
   "source": [
    "import http.client\n",
    "import ssl\n",
    "import json\n",
    "import pandas as pd\n",
    "\n",
    "# Create HTTPS connection\n",
    "conn = http.client.HTTPSConnection(\n",
    "    \"imdb_api4.p.rapidapi.com\",\n",
    "    context=ssl._create_unverified_context()\n",
    ")\n",
    "\n",
    "# Set headers\n",
    "headers = {\n",
    "        'x-rapidapi-key': \"bae03c19damshcdbccf3d5f16607p15b0f4jsndb1ebace834b\",\n",
    "    'x-rapidapi-host': \"imdb_api4.p.rapidapi.com\"\n",
    "}\n",
    "\n",
    "# Send request\n",
    "conn.request(\"GET\", \"/get_movies_by_cast_name\", headers=headers)\n",
    "\n",
    "# Get response\n",
    "res = conn.getresponse()\n",
    "data = res.read()\n",
    "\n",
    "# Decode response\n",
    "json_data = json.loads(data.decode(\"utf-8\"))\n",
    "\n",
    "# Convert JSON to DataFrame\n",
    "df = pd.DataFrame(json_data)\n",
    "\n",
    "# Print DataFrame\n",
    "print(df)\n"
   ]
  },
  {
   "cell_type": "code",
   "execution_count": 13,
   "id": "ea87f2d5-8acf-49e1-a8d8-8b44322294c5",
   "metadata": {},
   "outputs": [
    {
     "name": "stdout",
     "output_type": "stream",
     "text": [
      "Data has been saved to movies_data.csv\n"
     ]
    }
   ],
   "source": [
    "# Save DataFrame to CSV\n",
    "csv_filename = \"movies_data.csv\"\n",
    "df.to_csv(csv_filename, index=False)\n",
    "\n",
    "print(f\"Data has been saved to {csv_filename}\")"
   ]
  },
  {
   "cell_type": "code",
   "execution_count": null,
   "id": "5851fd43-29cb-43e6-9c10-9fdc5b56f5fb",
   "metadata": {},
   "outputs": [],
   "source": []
  }
 ],
 "metadata": {
  "kernelspec": {
   "display_name": "Python [conda env:base] *",
   "language": "python",
   "name": "conda-base-py"
  },
  "language_info": {
   "codemirror_mode": {
    "name": "ipython",
    "version": 3
   },
   "file_extension": ".py",
   "mimetype": "text/x-python",
   "name": "python",
   "nbconvert_exporter": "python",
   "pygments_lexer": "ipython3",
   "version": "3.12.7"
  }
 },
 "nbformat": 4,
 "nbformat_minor": 5
}
